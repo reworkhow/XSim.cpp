{
 "metadata": {
  "name": "",
  "signature": "sha256:5a762ce3a95a8a5b5037f4726d2736803a87ec93b10b00b269562ea472dc65e5"
 },
 "nbformat": 3,
 "nbformat_minor": 0,
 "worksheets": [
  {
   "cells": [
    {
     "cell_type": "markdown",
     "metadata": {},
     "source": [
      "> genomoe information including number of chromosomes, chromosome length, number of loci on each chromosome and mutation rate"
     ]
    },
    {
     "cell_type": "code",
     "collapsed": false,
     "input": [
      "%%file genomeInfo.txt\n",
      "nChrm 3\n",
      "chrLength 1.0 1.1 0.9\n",
      "nLoci 5 4 2\n",
      "mutRate 0.00000001"
     ],
     "language": "python",
     "metadata": {},
     "outputs": []
    },
    {
     "cell_type": "markdown",
     "metadata": {},
     "source": [
      "> map postion for each loci on different chromosomes (1 line each chromosome)"
     ]
    },
    {
     "cell_type": "code",
     "collapsed": false,
     "input": [
      "%%file mapPos.txt\n",
      "0.1 0.2 0.3 0.4 0.5\n",
      "0.2 0.7 0.8 0.9\n",
      "0.5 0.6"
     ],
     "language": "python",
     "metadata": {},
     "outputs": []
    },
    {
     "cell_type": "markdown",
     "metadata": {},
     "source": [
      "> haplotypes for all individuals (2 lines each individual)"
     ]
    },
    {
     "cell_type": "code",
     "collapsed": false,
     "input": [
      "%%file haplotype.txt\n",
      "1 1 0 0 1 1 1 0 1 0 \n",
      "0 1 1 1 0 1 0 0 0 1 \n",
      "1 0 0 1 1 1 1 0 1 1 \n",
      "0 1 1 1 1 0 1 1 1 0 \n",
      "1 1 1 0 0 1 0 0 0 1 \n",
      "0 0 1 0 1 1 1 0 0 1 \n",
      "1 1 0 1 0 0 1 1 0 1 \n",
      "0 1 0 0 1 1 1 1 1 1 \n",
      "1 0 1 0 1 1 1 1 1 1 \n",
      "0 1 0 1 0 1 1 1 1 1 \n",
      "1 0 0 0 1 1 1 0 1 1 \n",
      "0 1 1 0 0 1 1 0 1 1 \n",
      "1 1 0 1 1 0 1 0 1 1 \n",
      "0 1 0 0 1 1 1 0 1 1 \n",
      "1 1 0 0 0 1 1 0 1 1 \n",
      "0 1 1 1 1 0 1 0 1 1 \n",
      "1 0 0 0 1 1 1 0 1 0 \n",
      "0 1 0 1 0 1 0 0 1 0 \n",
      "1 1 1 0 1 0 1 0 0 1 \n",
      "1 0 0 0 1 0 1 0 1 1 \n"
     ],
     "language": "python",
     "metadata": {},
     "outputs": [
      {
       "output_type": "stream",
       "stream": "stdout",
       "text": [
        "Writing haplotype1.txt\n"
       ]
      }
     ],
     "prompt_number": 1
    }
   ],
   "metadata": {}
  }
 ]
}