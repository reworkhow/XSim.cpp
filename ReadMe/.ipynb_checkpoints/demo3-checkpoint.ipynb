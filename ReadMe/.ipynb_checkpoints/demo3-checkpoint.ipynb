{
 "metadata": {
  "name": "",
  "signature": "sha256:2d3765bc4355b1a7345dd8e5ccdb916391e119fe9104448d3c928a76050e812e"
 },
 "nbformat": 3,
 "nbformat_minor": 0,
 "worksheets": [
  {
   "cells": [
    {
     "cell_type": "heading",
     "level": 4,
     "metadata": {},
     "source": [
      "This file shows several main file demos for different mating structures. "
     ]
    },
    {
     "cell_type": "markdown",
     "metadata": {},
     "source": [
      "**Scenario 3** : random mating for 10 generations for one population, then split it into 2 populations and random mating for 10 generations"
     ]
    },
    {
     "cell_type": "code",
     "collapsed": false,
     "input": [
      "%%file main.cpp\n",
      "//\n",
      "//  main.cpp\n",
      "//  OSIM\n",
      "//\n",
      "//  Created by Hao Cheng on 3/17/14.\n",
      "//  Copyright (c) 2014 Hao. All rights reserved.\n",
      "//\n",
      "\n",
      "#include <iostream>\n",
      "#include <fstream>\n",
      "#include \"cohort.h\"\n",
      "#include \"tools.h\"\n",
      "#include \"simPop.h\"\n",
      "#include \"global.h\"\n",
      "#include \"parmMap.h\"\n",
      "\n",
      "int main(int argc, const char * argv[])\n",
      "{   \n",
      "    ///user-defined parameters and map positions\n",
      "    unsigned popSize =  10;\n",
      "    unsigned nGen    =  10;\n",
      "  \n",
      "    string genomeFile=\"/Users/erxingfangshui/Dropbox/GenSim/GenSim1.3_xcode/genomeInfo.txt\";\n",
      "    string mapFile=\"/Users/erxingfangshui/Dropbox/GenSim/GenSim1.3_xcode/mapPos.txt\";\n",
      "    string haplotype=\"/Users/erxingfangshui/Dropbox/GenSim/GenSim1.3_xcode/haplotype.txt\";\n",
      "    \n",
      "    SimPop osim1(genomeFile,mapFile);\n",
      "    SimPop osim2(genomeFile,mapFile);\n",
      "    SimPop osim3(genomeFile,mapFile);\n",
      "\n",
      "\n",
      "    osim1.popFounders(popSize,haplotype);    \n",
      "    osim1.popSample(popSize,nGen);\n",
      "\n",
      "    osim2.sub(osim1,popSize);\n",
      "    osim3.sub(osim1,popSize);\n",
      "\n",
      "    osim2.popSample(popSize,nGen);\n",
      "    osim3.popSample(popSize,nGen);\n",
      "    \n",
      "    MatrixXf out;\n",
      "    out=osim3.getGenotypes();\n",
      "    ofstream outFile(\"/Users/erxingfangshui/Desktop/genotype.txt\");\n",
      "    outFile << out;\n",
      "    cout<<\"DONE\"<<endl;\n",
      "\n",
      "    return 0;\n",
      "\n",
      "}"
     ],
     "language": "python",
     "metadata": {},
     "outputs": []
    },
    {
     "cell_type": "code",
     "collapsed": false,
     "input": [
      "%%file main.cpp\n",
      "//\n",
      "//  main.cpp\n",
      "//  OSIM\n",
      "//\n",
      "//  Created by Hao Cheng on 3/17/14.\n",
      "//  Copyright (c) 2014 Hao. All rights reserved.\n",
      "//\n",
      "\n",
      "#include <iostream>\n",
      "#include <fstream>\n",
      "#include \"cohort.h\"\n",
      "#include \"tools.h\"\n",
      "#include \"simPop.h\"\n",
      "#include \"global.h\"\n",
      "#include \"parmMap.h\"\n",
      "\n",
      "int main(int argc, const char * argv[])\n",
      "{   \n",
      "\n",
      "    ///constant nLoci, chrLength and random map positions\n",
      "    unsigned nLoci   =  100;\n",
      "    unsigned nChrm   =  1;\n",
      "    double chrLength =  0.01;\n",
      "    unsigned popSize =  100;\n",
      "    unsigned nGen    =  10;\n",
      "    double   mutRate =  1e-5;\n",
      "    \n",
      "    SimPop osim1(nChrm,nLoci,chrLength,mutRate);\n",
      "    SimPop osim2(nChrm,nLoci,chrLength,mutRate);\n",
      "    SimPop osim3(nChrm,nLoci,chrLength,mutRate);\n",
      "    osim1.popFounders(popSize);\n",
      "    \n",
      "    osim1.popSample(popSize,nGen);\n",
      "\n",
      "    osim2.sub(osim1,popSize);\n",
      "    osim3.sub(osim1,popSize);\n",
      "\n",
      "    osim2.popSample(popSize,nGen);\n",
      "    osim3.popSample(popSize,nGen);\n",
      "    \n",
      "    MatrixXf out;\n",
      "    out=osim3.getGenotypes();\n",
      "    ofstream outFile(\"/Users/erxingfangshui/Desktop/genotype.txt\");\n",
      "    outFile << out;\n",
      "    cout<<\"DONE\"<<endl;\n",
      "\n",
      "    return 0;\n",
      "\n",
      "}"
     ],
     "language": "python",
     "metadata": {},
     "outputs": []
    },
    {
     "cell_type": "code",
     "collapsed": false,
     "input": [
      "\n",
      "%%file  makeGenSim\n",
      "#############################################################################\n",
      "# Makefile for building: OSim\n",
      "\n",
      "INCPATH = -I/Users/erxingfangshui/Dropbox/CODE/eigen3 -I/Users/erxingfangshui/Dropbox/CODE/boost\n",
      "\n",
      "GenSim:\tmain.o libGenSim.a\n",
      "\tg++ -o GenSim main.o libGenSim.a \n",
      "\n",
      "main.o: main.cpp \n",
      "\tg++ $(INCPATH) -c -o main.o main.cpp\n",
      "\n",
      "clean:\n",
      "\t\\rm main.o GenSim"
     ],
     "language": "python",
     "metadata": {},
     "outputs": []
    },
    {
     "cell_type": "code",
     "collapsed": true,
     "input": [
      "%%bash\n",
      "%%bash\n",
      "mv makeGenSim ../\n",
      "mv main.cpp ../\n",
      "cd ..\n",
      "make -f makeGenSim "
     ],
     "language": "python",
     "metadata": {},
     "outputs": []
    },
    {
     "cell_type": "code",
     "collapsed": false,
     "input": [
      "%%bash\n",
      "cd ..\n",
      "./GenSim"
     ],
     "language": "python",
     "metadata": {},
     "outputs": []
    }
   ],
   "metadata": {}
  }
 ]
}