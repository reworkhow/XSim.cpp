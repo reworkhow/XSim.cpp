{
 "metadata": {
  "name": "",
  "signature": "sha256:7ac36dd141026589e816d246b17c5fa7a1d4c1ef9a69268a80c958ca82f271cd"
 },
 "nbformat": 3,
 "nbformat_minor": 0,
 "worksheets": [
  {
   "cells": [
    {
     "cell_type": "heading",
     "level": 4,
     "metadata": {},
     "source": [
      "This file shows several main file demos for different mating structures. "
     ]
    },
    {
     "cell_type": "markdown",
     "metadata": {},
     "source": [
      "**Scenario 1** : random mating for 10 generations for one population"
     ]
    },
    {
     "cell_type": "markdown",
     "metadata": {},
     "source": [
      "> reading real genotypes from files"
     ]
    },
    {
     "cell_type": "code",
     "collapsed": false,
     "input": [
      "%%file main.cpp\n",
      "\n",
      "#include <iostream>\n",
      "#include <fstream>\n",
      "#include \"cohort.h\"\n",
      "#include \"tools.h\"\n",
      "#include \"simPop.h\"\n",
      "#include \"global.h\"\n",
      "#include \"parmMap.h\"\n",
      "\n",
      "int main(int argc, const char * argv[])\n",
      "{   \n",
      "    ///user-defined parameters and map positions\n",
      "    unsigned popSize =  10;\n",
      "    unsigned nGen    =  10;\n",
      "  \n",
      "    string path=\"/Users/erxingfangshui/Dropbox/GenSim/GenSim1.4/data/\";\n",
      "    string genomeFile=path+\"genomeInfo.txt\";\n",
      "    string mapFile=path+\"mapPos.txt\";\n",
      "    string haplotype=path+\"haplotype.txt\";\n",
      "    \n",
      "    SimPop osim(genomeFile,mapFile);\n",
      "    osim.popFounders(popSize,haplotype);\n",
      "    \n",
      "    osim.popSample(popSize,nGen);\n",
      "    MatrixXf out;\n",
      "    out=osim.getGenotypes();\n",
      "    ofstream outFile(path+\"genotype.txt\");\n",
      "    outFile << out;\n",
      "    \n",
      "    return 0;\n",
      "\n",
      "}"
     ],
     "language": "python",
     "metadata": {},
     "outputs": [
      {
       "output_type": "stream",
       "stream": "stdout",
       "text": [
        "Overwriting main.cpp\n"
       ]
      }
     ],
     "prompt_number": 5
    },
    {
     "cell_type": "markdown",
     "metadata": {},
     "source": [
      "> randomly generate genotypes"
     ]
    },
    {
     "cell_type": "code",
     "collapsed": false,
     "input": [
      "%%file main.cpp\n",
      "\n",
      "#include <iostream>\n",
      "#include <fstream>\n",
      "#include \"cohort.h\"\n",
      "#include \"tools.h\"\n",
      "#include \"simPop.h\"\n",
      "#include \"global.h\"\n",
      "#include \"parmMap.h\"\n",
      "\n",
      "int main(int argc, const char * argv[])\n",
      "{   \n",
      "\n",
      "    ///constant nLoci, chrLength and random map positions\n",
      "    unsigned nLoci   =  100;\n",
      "    unsigned nChrm   =  1;\n",
      "    double chrLength =  0.01;\n",
      "    unsigned popSize =  100;\n",
      "    unsigned nGen    =  10;\n",
      "    double   mutRate =  1e-5;\n",
      "    \n",
      "    SimPop osim(nChrm,nLoci,chrLength,mutRate);\n",
      "    osim.popFounders(popSize);\n",
      "    osim.popSample(popSize,nGen);\n",
      "    MatrixXf out;\n",
      "    out=osim.getGenotypes();\n",
      "    ofstream outFile(\"genotype.example\");\n",
      "    outFile << out;\n",
      "    cout<<\"DONE\"<<endl;\n",
      "    \n",
      "    return 0;\n",
      "\n",
      "}"
     ],
     "language": "python",
     "metadata": {},
     "outputs": []
    },
    {
     "cell_type": "code",
     "collapsed": false,
     "input": [
      "%%file  makeGenSim\n",
      "#############################################################################\n",
      "# Makefile for building: OSim\n",
      "\n",
      "myPath = /Users/erxingfangshui/Dropbox/CODE\n",
      "INCPATH = -I $(myPath)/eigen3 -I $(myPath)/boost\n",
      "\n",
      "GenSim:\tmain.o libGenSim.a\n",
      "\tg++ -o GenSim main.o libGenSim.a \n",
      "\n",
      "main.o: main.cpp \n",
      "\tg++ $(INCPATH) -c -o main.o main.cpp\n",
      "\n",
      "clean:\n",
      "\t\\rm main.o GenSim"
     ],
     "language": "python",
     "metadata": {},
     "outputs": [
      {
       "output_type": "stream",
       "stream": "stdout",
       "text": [
        "Writing makeGenSim\n"
       ]
      }
     ],
     "prompt_number": 2
    },
    {
     "cell_type": "code",
     "collapsed": false,
     "input": [
      "%%bash\n",
      "path=/Users/erxingfangshui/Dropbox/GenSim/GenSim1.4\n",
      "mv makeGenSim $path\n",
      "mv main.cpp $path\n",
      "\n",
      "cd $path\n",
      "make -f makeGenSim "
     ],
     "language": "python",
     "metadata": {},
     "outputs": [
      {
       "output_type": "stream",
       "stream": "stdout",
       "text": [
        "g++ -I /Users/erxingfangshui/Dropbox/CODE/eigen3 -I /Users/erxingfangshui/Dropbox/CODE/boost -c -o main.o main.cpp\n",
        "g++ -o GenSim main.o libGenSim.a \n"
       ]
      },
      {
       "output_type": "stream",
       "stream": "stderr",
       "text": [
        "mv: makeGenSim: No such file or directory\n",
        "In file included from main.cpp:4:\n",
        "In file included from ./cohort.h:14:\n",
        "In file included from ./animal_class.h:22:\n",
        "./genome_info.h:55:14: warning: 'auto' type specifier is a C++11 extension [-Wc++11-extensions]\n",
        "        for( auto &i : *this){\n",
        "             ^\n",
        "./genome_info.h:55:22: warning: range-based for loop is a C++11 extension [-Wc++11-extensions]\n",
        "        for( auto &i : *this){\n",
        "                     ^\n",
        "2 warnings generated.\n"
       ]
      }
     ],
     "prompt_number": 2
    },
    {
     "cell_type": "code",
     "collapsed": false,
     "input": [
      "%%bash\n",
      "path=/Users/erxingfangshui/Dropbox/GenSim/GenSim1.4\n",
      "cd $path\n",
      "./GenSim"
     ],
     "language": "python",
     "metadata": {},
     "outputs": [
      {
       "output_type": "stream",
       "stream": "stdout",
       "text": [
        "Sampling 10 animals from known genotypes into base population.\n",
        "Generation 1 ---> Sampling 10 children into next generation.\n",
        "Generation 2 ---> Sampling 10 children into next generation.\n",
        "Generation 3 ---> Sampling 10 children into next generation.\n",
        "Generation 4 ---> Sampling 10 children into next generation.\n",
        "Generation 5 ---> Sampling 10 children into next generation.\n",
        "Generation 6 ---> Sampling 10 children into next generation.\n",
        "Generation 7 ---> Sampling 10 children into next generation.\n",
        "Generation 8 ---> Sampling 10 children into next generation.\n",
        "Generation 9 ---> Sampling 10 children into next generation.\n"
       ]
      }
     ],
     "prompt_number": 3
    }
   ],
   "metadata": {}
  }
 ]
}